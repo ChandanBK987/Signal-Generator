{
 "cells": [
  {
   "cell_type": "code",
   "execution_count": null,
   "id": "5e871802-65a1-4dcc-b258-95d27a302424",
   "metadata": {},
   "outputs": [],
   "source": [
    "import numpy as np\n",
    "import matplotlib.pyplot as plt\n",
    "\n",
    "# Waveform generation functions\n",
    "def generate_sine_wave(frequency, amplitude, phase, duration, sampling_rate=1000):\n",
    "    t = np.linspace(0, duration, int(sampling_rate * duration), endpoint=False)\n",
    "    return t, amplitude * np.sin(2 * np.pi * frequency * t + phase)\n",
    "\n",
    "def generate_square_wave(frequency, amplitude, phase, duration, sampling_rate=1000):\n",
    "    t = np.linspace(0, duration, int(sampling_rate * duration), endpoint=False)\n",
    "    return t, amplitude * np.sign(np.sin(2 * np.pi * frequency * t + phase))\n",
    "\n",
    "def generate_triangular_wave(frequency, amplitude, phase, duration, sampling_rate=1000):\n",
    "    t = np.linspace(0, duration, int(sampling_rate * duration), endpoint=False)\n",
    "    return t, amplitude * 2 * np.abs(2 * (t * frequency - np.floor(t * frequency + 0.5))) - amplitude\n",
    "\n",
    "# Function to plot the waveforms\n",
    "def plot_waveform(t, signal, title):\n",
    "    plt.figure(figsize=(10, 4))\n",
    "    plt.plot(t, signal)\n",
    "    plt.title(title)\n",
    "    plt.xlabel('Time [s]')\n",
    "    plt.ylabel('Amplitude')\n",
    "    plt.grid(True)\n",
    "    plt.show()\n",
    "\n",
    "# User inputs for waveform parameters\n",
    "def main():\n",
    "    # Input parameters\n",
    "    waveform_type = input(\"Enter the waveform type (sine/square/triangular): \").strip().lower()\n",
    "    frequency = float(input(\"Enter the frequency (Hz): \"))\n",
    "    amplitude = float(input(\"Enter the amplitude: \"))\n",
    "    phase = float(input(\"Enter the phase (radians): \"))\n",
    "    duration = float(input(\"Enter the duration (seconds): \"))\n",
    "\n",
    "    # Generate and plot the chosen waveform\n",
    "    if waveform_type == 'sine':\n",
    "        t, signal = generate_sine_wave(frequency, amplitude, phase, duration)\n",
    "        plot_waveform(t, signal, f\"Sine Wave: {frequency} Hz, Amplitude: {amplitude}, Phase: {phase}\")\n",
    "    elif waveform_type == 'square':\n",
    "        t, signal = generate_square_wave(frequency, amplitude, phase, duration)\n",
    "        plot_waveform(t, signal, f\"Square Wave: {frequency} Hz, Amplitude: {amplitude}, Phase: {phase}\")\n",
    "    elif waveform_type == 'triangular':\n",
    "        t, signal = generate_triangular_wave(frequency, amplitude, phase, duration)\n",
    "        plot_waveform(t, signal, f\"Triangular Wave: {frequency} Hz, Amplitude: {amplitude}, Phase: {phase}\")\n",
    "    else:\n",
    "        print(\"Invalid waveform type. Please choose sine, square, or triangular.\")\n",
    "\n",
    "if __name__ == \"__main__\":\n",
    "    main()\n"
   ]
  },
  {
   "cell_type": "code",
   "execution_count": null,
   "id": "acdd8a52-1930-4273-bd27-d2da30ffd01b",
   "metadata": {},
   "outputs": [],
   "source": []
  }
 ],
 "metadata": {
  "kernelspec": {
   "display_name": "Python 3 (ipykernel)",
   "language": "python",
   "name": "python3"
  },
  "language_info": {
   "codemirror_mode": {
    "name": "ipython",
    "version": 3
   },
   "file_extension": ".py",
   "mimetype": "text/x-python",
   "name": "python",
   "nbconvert_exporter": "python",
   "pygments_lexer": "ipython3",
   "version": "3.12.0"
  }
 },
 "nbformat": 4,
 "nbformat_minor": 5
}
